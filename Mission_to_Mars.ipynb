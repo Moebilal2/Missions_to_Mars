{
 "cells": [
  {
   "cell_type": "code",
   "execution_count": 1,
   "id": "4e9b0d77",
   "metadata": {},
   "outputs": [],
   "source": [
    "# get depdnencies\n",
    "\n",
    "from splinter import Browser\n",
    "from bs4 import BeautifulSoup as soup\n",
    "import pandas as pd\n",
    "from webdriver_manager.chrome import ChromeDriverManager\n",
    "import requests "
   ]
  },
  {
   "cell_type": "code",
   "execution_count": 2,
   "id": "21646f1f",
   "metadata": {},
   "outputs": [],
   "source": [
    "# splinter setup\n",
    "\n",
    "executable_path = {'executable_path': ChromeDriverManager().install()}\n",
    "browser = Browser('chrome', **executable_path, headless = False)"
   ]
  },
  {
   "cell_type": "markdown",
   "id": "18e9a276",
   "metadata": {},
   "source": [
    "# Visit NASA mars news site"
   ]
  },
  {
   "cell_type": "code",
   "execution_count": null,
   "id": "ded817e3",
   "metadata": {},
   "outputs": [],
   "source": [
    "# visit the Mars website\n",
    "url = 'https://redplanetscience.com/'\n",
    "browser.visit(url)\n",
    "\n",
    "html = browser.html\n",
    "news_soup = soup(html, 'html.parser')\n",
    "\n",
    "# optional delay to load the page\n",
    "browser.is_element_present_by_css('div.list_text', wait_time=1)"
   ]
  },
  {
   "cell_type": "code",
   "execution_count": null,
   "id": "113832e3",
   "metadata": {},
   "outputs": [],
   "source": [
    "# conver browser into a soup object\n",
    "\n",
    "html = browser.html\n",
    "news_soup = soup(html, 'html.parser')\n",
    "\n",
    "\n",
    "\n",
    "#print(news_soup.prettify())"
   ]
  },
  {
   "cell_type": "code",
   "execution_count": null,
   "id": "3c265831",
   "metadata": {},
   "outputs": [],
   "source": [
    "\n",
    "slide_elem = news_soup.select_one('div.list_text')"
   ]
  },
  {
   "cell_type": "code",
   "execution_count": null,
   "id": "14d6924a",
   "metadata": {},
   "outputs": [],
   "source": [
    "# display the current title content\n",
    "slide_elem.find('div', class_= 'content_title')"
   ]
  },
  {
   "cell_type": "code",
   "execution_count": null,
   "id": "c681e2aa",
   "metadata": {},
   "outputs": [],
   "source": [
    "# use the parent element to find the first a  tag and save it as 'new_title'\n",
    "\n",
    "news_title = slide_elem.find('div', class_= 'content_title').get_text()\n",
    "\n",
    "news_title"
   ]
  },
  {
   "cell_type": "code",
   "execution_count": null,
   "id": "10cf85bc",
   "metadata": {},
   "outputs": [],
   "source": [
    "# use the parent element to find the paragraph text\n",
    "\n",
    "news_p = slide_elem.find('div', class_= 'article_teaser_body').get_text()\n",
    "news_p "
   ]
  },
  {
   "cell_type": "markdown",
   "id": "6a69e15b",
   "metadata": {},
   "source": [
    "# JPL Space Featured Image"
   ]
  },
  {
   "cell_type": "code",
   "execution_count": null,
   "id": "1c5d3d45",
   "metadata": {},
   "outputs": [],
   "source": [
    "# visit URL\n",
    "\n",
    "url = 'https://spaceimages-mars.com'\n",
    "\n",
    "browser.visit(url)"
   ]
  },
  {
   "cell_type": "code",
   "execution_count": null,
   "id": "f2d274f7",
   "metadata": {},
   "outputs": [],
   "source": [
    "# find and click the full image button\n",
    "\n",
    "full_image_link = browser.find_by_tag('button')[1]\n",
    "full_image_link.click()"
   ]
  },
  {
   "cell_type": "code",
   "execution_count": null,
   "id": "ed114965",
   "metadata": {},
   "outputs": [],
   "source": [
    "# parse the resulting html with soup\n",
    "\n",
    "html = browser.html\n",
    "image_soup = soup(html, 'html.parser')\n",
    "\n"
   ]
  },
  {
   "cell_type": "code",
   "execution_count": null,
   "id": "23793ac6",
   "metadata": {
    "scrolled": true
   },
   "outputs": [],
   "source": [
    "img_url_rel = img_soup.find('img', class_='fancybox-image').get('src')\n"
   ]
  },
  {
   "cell_type": "code",
   "execution_count": null,
   "id": "87184111",
   "metadata": {},
   "outputs": [],
   "source": [
    "#find the relative image url\n",
    "img_url_rel "
   ]
  },
  {
   "cell_type": "code",
   "execution_count": null,
   "id": "c16ff7fd",
   "metadata": {},
   "outputs": [],
   "source": [
    "#Use the base url to create an absolute url\n",
    "img_url=f\"https://spaceimages-mars.com/{img_url_rel}\""
   ]
  },
  {
   "cell_type": "markdown",
   "id": "95604b2c",
   "metadata": {},
   "source": [
    "# Mars Facts"
   ]
  },
  {
   "cell_type": "code",
   "execution_count": null,
   "id": "0cde9131",
   "metadata": {},
   "outputs": [],
   "source": [
    "# use 'pd.read_html' to pull te data from the mars-earth comparison section\n",
    "\n",
    "df = pd.read_html('https://galaxyfacts-mars.com/')[0]\n",
    "df.head()"
   ]
  },
  {
   "cell_type": "code",
   "execution_count": null,
   "id": "07c07e4f",
   "metadata": {},
   "outputs": [],
   "source": [
    "df.columns=['Description','Mars', 'Earth']\n",
    "df"
   ]
  },
  {
   "cell_type": "code",
   "execution_count": null,
   "id": "a09b6300",
   "metadata": {},
   "outputs": [],
   "source": [
    "df.set_index('Description', inplace = True)"
   ]
  },
  {
   "cell_type": "code",
   "execution_count": null,
   "id": "14a07778",
   "metadata": {},
   "outputs": [],
   "source": [
    "df.to_html()"
   ]
  },
  {
   "cell_type": "markdown",
   "id": "0ffe8c36",
   "metadata": {},
   "source": [
    "# Hemispheres"
   ]
  },
  {
   "cell_type": "code",
   "execution_count": null,
   "id": "9fc5e16f",
   "metadata": {},
   "outputs": [],
   "source": [
    "url = 'https://marshemispheres.com'\n",
    "\n",
    "browser.visit(url)"
   ]
  },
  {
   "cell_type": "code",
   "execution_count": null,
   "id": "135932a0",
   "metadata": {},
   "outputs": [],
   "source": [
    "# create a list to hold the images and titles,\n",
    "hemisphere_image_urls = []\n",
    "\n",
    "# get a list of all the hemispheres\n",
    "links = browser.find_by_css('a.product-item img')\n",
    "\n",
    "\n",
    "# Next, loop through those links, click the link, find the sample anchor, return the href\n",
    "for i in range(len(links)):\n",
    "    \n",
    "    # create hemisphere dictionary\n",
    "    hemisphereInfo = {}\n",
    "    \n",
    "    # we have to find the elements on each loop to avoid a state element exception\n",
    "    browser.find_by_css('a.product-item img')[i].click()\n",
    "    \n",
    "    \n",
    "    # Next, we find the sample image anchor tag and extract the href\n",
    "    sample = browser.links.find_by_text('Sample').first\n",
    "    hemisphereInfo['img_url'] = sample['href']\n",
    "    \n",
    "    # get the hemisphere title\n",
    "    hemisphereInfo['title']=browser.find_by_css('h2.title').text\n",
    "    # Append hemisphere object to list\n",
    "    hemisphere_image_urls.append(hemisphereInfo)\n",
    "    # Finaly, we navigate backwords\n",
    "    browser.back()"
   ]
  },
  {
   "cell_type": "code",
   "execution_count": null,
   "id": "da9e031b",
   "metadata": {},
   "outputs": [],
   "source": [
    "hemisphere_image_urls"
   ]
  },
  {
   "cell_type": "code",
   "execution_count": null,
   "id": "4de10e61",
   "metadata": {},
   "outputs": [],
   "source": [
    "browser.quit()"
   ]
  },
  {
   "cell_type": "code",
   "execution_count": null,
   "id": "5a707ef9",
   "metadata": {},
   "outputs": [],
   "source": []
  }
 ],
 "metadata": {
  "kernelspec": {
   "display_name": "Python 3 (ipykernel)",
   "language": "python",
   "name": "python3"
  },
  "language_info": {
   "codemirror_mode": {
    "name": "ipython",
    "version": 3
   },
   "file_extension": ".py",
   "mimetype": "text/x-python",
   "name": "python",
   "nbconvert_exporter": "python",
   "pygments_lexer": "ipython3",
   "version": "3.9.12"
  }
 },
 "nbformat": 4,
 "nbformat_minor": 5
}
